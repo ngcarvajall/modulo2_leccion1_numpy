{
 "cells": [
  {
   "cell_type": "markdown",
   "id": "6db588db",
   "metadata": {},
   "source": [
    "<div style=\"text-align: center;\">\n",
    "  <img src=\"https://github.com/Hack-io-Data/Imagenes/blob/main/01-LogosHackio/logo_naranja@4x.png?raw=true\" alt=\"esquema\" />\n",
    "</div>"
   ]
  },
  {
   "cell_type": "markdown",
   "id": "11308d6c",
   "metadata": {},
   "source": [
    "\n",
    "# Laboratorio de NumPy"
   ]
  },
  {
   "cell_type": "markdown",
   "id": "a19d4596",
   "metadata": {},
   "source": [
    "#### Ejercicio 1 - Crea un array de 1D con los números del 0 al 9."
   ]
  },
  {
   "cell_type": "code",
   "execution_count": 15,
   "id": "9d4e1d42",
   "metadata": {},
   "outputs": [
    {
     "name": "stdout",
     "output_type": "stream",
     "text": [
      "[0 1 2 3 4 5 6 7 8 9]\n"
     ]
    }
   ],
   "source": [
    "import numpy as np\n",
    "\n",
    "listado = [0,1,2,3,4,5,6,7,8,9]\n",
    "array_unidimensional = np.array(listado)\n",
    "print(array_unidimensional)"
   ]
  },
  {
   "cell_type": "markdown",
   "id": "f4a41f16",
   "metadata": {},
   "source": [
    "#### Ejercicio 2 - Convierte un array 1D en un array 2D con 2 filas y 5 columnas."
   ]
  },
  {
   "cell_type": "code",
   "execution_count": 16,
   "id": "3d7cef3c",
   "metadata": {},
   "outputs": [
    {
     "data": {
      "text/plain": [
       "array([[0, 1, 2, 3, 4],\n",
       "       [5, 6, 7, 8, 9]])"
      ]
     },
     "execution_count": 16,
     "metadata": {},
     "output_type": "execute_result"
    }
   ],
   "source": [
    "array_bidimensional = np.reshape(array_unidimensional,(2,5)) ### toma el primer array y lo convierte en 2 x 5\n",
    "array_bidimensional"
   ]
  },
  {
   "cell_type": "markdown",
   "id": "86bb8999",
   "metadata": {},
   "source": [
    "#### Ejercicio 3 - Encuentra los índices de los elementos con valor distinto de 0 en el siguiente array: [0, 2, 0, 3, 0, 4, 0]."
   ]
  },
  {
   "cell_type": "code",
   "execution_count": 17,
   "id": "d1fcfca4",
   "metadata": {},
   "outputs": [
    {
     "name": "stdout",
     "output_type": "stream",
     "text": [
      "Los índices son(array([1, 3, 5], dtype=int64),)\n"
     ]
    }
   ],
   "source": [
    "a = np.array([0, 2, 0, 3, 0, 4, 0])\n",
    "\n",
    "resultado_where = np.where(a != 0) ### busca el indice de la condicion que se cumple\n",
    "print(f'Los índices son{resultado_where}')\n"
   ]
  },
  {
   "cell_type": "markdown",
   "id": "1c548419",
   "metadata": {},
   "source": [
    "#### Ejercicio 4 - Crea un array 3x3 con valores aleatorios entre 0 y 1."
   ]
  },
  {
   "cell_type": "code",
   "execution_count": 18,
   "id": "e1d4f19f",
   "metadata": {},
   "outputs": [
    {
     "data": {
      "text/plain": [
       "array([[0, 0, 0],\n",
       "       [0, 0, 0],\n",
       "       [0, 0, 0]])"
      ]
     },
     "execution_count": 18,
     "metadata": {},
     "output_type": "execute_result"
    }
   ],
   "source": [
    "b = np.random.randint(0,2,(3,3)) ### numero de 0 a 1, en un tablero de 3 filas y 3 columnas\n",
    "b"
   ]
  },
  {
   "cell_type": "markdown",
   "id": "aee82811",
   "metadata": {},
   "source": [
    "#### Ejercicio 5 - Crea un array de 10 números aleatorios y encuentra el valor máximo y mínimo."
   ]
  },
  {
   "cell_type": "code",
   "execution_count": 19,
   "id": "81fea76e",
   "metadata": {},
   "outputs": [
    {
     "name": "stdout",
     "output_type": "stream",
     "text": [
      "El minimo es 0\n",
      "El maximo es 9\n"
     ]
    }
   ],
   "source": [
    "array_randint_tri = np.random.randint(0,10,10) ### coloco el punto de partida, el punto final, y cuantos numeros quiero\n",
    "maximo = np.max(array_randint_tri)\n",
    "minimo = np.min(array_randint_tri)\n",
    "\n",
    "print(f'El minimo es {minimo}')\n",
    "print(f'El maximo es {maximo}')"
   ]
  },
  {
   "cell_type": "markdown",
   "id": "6559375b",
   "metadata": {},
   "source": [
    "#### Ejercicio 6 - Crea un array de una dimensión e inviértelo. "
   ]
  },
  {
   "cell_type": "code",
   "execution_count": 20,
   "id": "31385db0",
   "metadata": {},
   "outputs": [
    {
     "data": {
      "text/plain": [
       "array([6, 5, 4, 3, 2, 1])"
      ]
     },
     "execution_count": 20,
     "metadata": {},
     "output_type": "execute_result"
    }
   ],
   "source": [
    "c = np.array([1,2,3,4,5,6])\n",
    "\n",
    "c[::-1]"
   ]
  },
  {
   "cell_type": "markdown",
   "id": "4457f046",
   "metadata": {},
   "source": [
    "\n",
    "#### Ejercicio 6 - Genera un array tridimensional de dimensiones (2, 3, 4) con valores enteros del 1 al 24.\n",
    "\n",
    "- Selecciona el primer `15` del array.\n",
    "\n",
    "- Selecciona todos los elementos del primer array. \n",
    "\n",
    "- Selecciona la última fila del último array\n"
   ]
  },
  {
   "cell_type": "code",
   "execution_count": 21,
   "id": "3cab04c9",
   "metadata": {},
   "outputs": [],
   "source": [
    "d = np.random.randint(1,25,(2,3,4))"
   ]
  },
  {
   "cell_type": "code",
   "execution_count": 22,
   "id": "b5bb41e1",
   "metadata": {},
   "outputs": [
    {
     "name": "stdout",
     "output_type": "stream",
     "text": [
      "[[[ 7 11 21 20]\n",
      "  [ 5  8 19  8]\n",
      "  [ 5  7 21 16]]\n",
      "\n",
      " [[ 2  3  3  8]\n",
      "  [20  6 15  7]\n",
      "  [16  7  4 12]]]\n",
      "(array([1], dtype=int64), array([1], dtype=int64), array([2], dtype=int64))\n"
     ]
    }
   ],
   "source": [
    "\n",
    "where_15 = np.where(d == 15)\n",
    "print(d)\n",
    "print(where_15)\n"
   ]
  },
  {
   "cell_type": "code",
   "execution_count": 23,
   "id": "fc170cfc",
   "metadata": {},
   "outputs": [
    {
     "data": {
      "text/plain": [
       "15"
      ]
     },
     "execution_count": 23,
     "metadata": {},
     "output_type": "execute_result"
    }
   ],
   "source": [
    "d[d==15][0]"
   ]
  },
  {
   "cell_type": "code",
   "execution_count": 24,
   "id": "93d60afd",
   "metadata": {},
   "outputs": [
    {
     "data": {
      "text/plain": [
       "array([[ 7, 11, 21, 20],\n",
       "       [ 5,  8, 19,  8],\n",
       "       [ 5,  7, 21, 16]])"
      ]
     },
     "execution_count": 24,
     "metadata": {},
     "output_type": "execute_result"
    }
   ],
   "source": [
    "d[0]"
   ]
  },
  {
   "cell_type": "code",
   "execution_count": 25,
   "id": "f6883281",
   "metadata": {},
   "outputs": [
    {
     "data": {
      "text/plain": [
       "array([16,  7,  4, 12])"
      ]
     },
     "execution_count": 25,
     "metadata": {},
     "output_type": "execute_result"
    }
   ],
   "source": [
    "d[1,-1,:]"
   ]
  },
  {
   "cell_type": "markdown",
   "id": "681b7e4e",
   "metadata": {},
   "source": [
    "\n",
    "#### Ejercicio 7 - Genera un array tridimensional de dimensiones (3, 2, 5) con valores enteros del 1 al 30.\n",
    "\n",
    "- Selecciona el subarray que contiene los dos primeros elementos de cada fila del primer array.\n",
    "\n",
    "- Selecciona el subarray que contiene todas las filas de los dos últimos arrays.\n"
   ]
  },
  {
   "cell_type": "code",
   "execution_count": 26,
   "id": "b008a9aa",
   "metadata": {},
   "outputs": [
    {
     "data": {
      "text/plain": [
       "array([[[28, 15, 26, 27, 30],\n",
       "        [25, 11, 10, 11, 29]],\n",
       "\n",
       "       [[16, 17, 11, 25, 22],\n",
       "        [14, 29, 22, 22, 28]],\n",
       "\n",
       "       [[12, 14,  4, 17,  4],\n",
       "        [22, 29, 23,  7, 29]]])"
      ]
     },
     "execution_count": 26,
     "metadata": {},
     "output_type": "execute_result"
    }
   ],
   "source": [
    "e = np.random.randint(1,31,(3,2,5))\n",
    "e"
   ]
  },
  {
   "cell_type": "code",
   "execution_count": 27,
   "id": "7bb07a63",
   "metadata": {},
   "outputs": [
    {
     "data": {
      "text/plain": [
       "array([[28, 15],\n",
       "       [25, 11]])"
      ]
     },
     "execution_count": 27,
     "metadata": {},
     "output_type": "execute_result"
    }
   ],
   "source": [
    "e[0,0:2,0:2]"
   ]
  },
  {
   "cell_type": "code",
   "execution_count": 28,
   "id": "eca46593",
   "metadata": {},
   "outputs": [
    {
     "data": {
      "text/plain": [
       "array([[14, 29, 22, 22, 28],\n",
       "       [22, 29, 23,  7, 29]])"
      ]
     },
     "execution_count": 28,
     "metadata": {},
     "output_type": "execute_result"
    }
   ],
   "source": [
    "e[1:3,1,:]"
   ]
  },
  {
   "cell_type": "markdown",
   "id": "4fabd9d0",
   "metadata": {},
   "source": [
    "#### Ejercicio 8 - Genera un array tridimensional de dimensiones (4, 3, 2) con valores enteros del 1 al 24.\n",
    "\n",
    "- Cambia todos los elementos de la segunda fila del segundo array por `0`.\n",
    "\n",
    "- Cambia todos los valores del último array a `-1`.\n"
   ]
  },
  {
   "cell_type": "code",
   "execution_count": 29,
   "id": "0ef45b69",
   "metadata": {},
   "outputs": [
    {
     "data": {
      "text/plain": [
       "array([[[17, 19],\n",
       "        [ 2, 10],\n",
       "        [ 1, 24]],\n",
       "\n",
       "       [[24, 17],\n",
       "        [14, 18],\n",
       "        [15, 23]],\n",
       "\n",
       "       [[19, 12],\n",
       "        [18, 10],\n",
       "        [21,  9]],\n",
       "\n",
       "       [[ 8, 11],\n",
       "        [ 5,  1],\n",
       "        [22, 21]]])"
      ]
     },
     "execution_count": 29,
     "metadata": {},
     "output_type": "execute_result"
    }
   ],
   "source": [
    "f = np.random.randint(1,25,(4,3,2))\n",
    "f"
   ]
  },
  {
   "cell_type": "code",
   "execution_count": 30,
   "id": "8b4e4963",
   "metadata": {},
   "outputs": [
    {
     "data": {
      "text/plain": [
       "array([[[17, 19],\n",
       "        [ 2, 10],\n",
       "        [ 1, 24]],\n",
       "\n",
       "       [[24, 17],\n",
       "        [ 0,  0],\n",
       "        [15, 23]],\n",
       "\n",
       "       [[19, 12],\n",
       "        [18, 10],\n",
       "        [21,  9]],\n",
       "\n",
       "       [[-1, -1],\n",
       "        [-1, -1],\n",
       "        [-1, -1]]])"
      ]
     },
     "execution_count": 30,
     "metadata": {},
     "output_type": "execute_result"
    }
   ],
   "source": [
    "f[1,1,:] = 0\n",
    "f[-1,:,:] = -1\n",
    "\n",
    "f"
   ]
  },
  {
   "cell_type": "markdown",
   "id": "c60bc3bb",
   "metadata": {},
   "source": [
    "\n",
    "#### Ejercicio 9 - Genera un array tridimensional de dimensiones (2, 4, 3) con valores enteros del -10 al 13.\n",
    "\n",
    "- Selecciona todos los elementos mayores a `5`.\n",
    "\n",
    "- Reemplaza todos los elementos negativos por `0`.\n"
   ]
  },
  {
   "cell_type": "code",
   "execution_count": 31,
   "id": "28bf9232",
   "metadata": {},
   "outputs": [
    {
     "data": {
      "text/plain": [
       "array([[[ -6,   3,   5],\n",
       "        [ -7,  -6,  -1],\n",
       "        [  6,   7,   4],\n",
       "        [-10,   7,  -8]],\n",
       "\n",
       "       [[  0,  -7,  10],\n",
       "        [ -1,  -3,   1],\n",
       "        [  0,   5,  12],\n",
       "        [  5,   2,  -4]]])"
      ]
     },
     "execution_count": 31,
     "metadata": {},
     "output_type": "execute_result"
    }
   ],
   "source": [
    "h = np.random.randint(-10,14,(2,4,3))\n",
    "h"
   ]
  },
  {
   "cell_type": "code",
   "execution_count": 32,
   "id": "38bc345b",
   "metadata": {},
   "outputs": [
    {
     "data": {
      "text/plain": [
       "array([ 6,  7,  7, 10, 12])"
      ]
     },
     "execution_count": 32,
     "metadata": {},
     "output_type": "execute_result"
    }
   ],
   "source": [
    "h[h>5]"
   ]
  },
  {
   "cell_type": "code",
   "execution_count": 33,
   "id": "77305b5e",
   "metadata": {},
   "outputs": [
    {
     "data": {
      "text/plain": [
       "array([[[ 0,  3,  5],\n",
       "        [ 0,  0,  0],\n",
       "        [ 6,  7,  4],\n",
       "        [ 0,  7,  0]],\n",
       "\n",
       "       [[ 0,  0, 10],\n",
       "        [ 0,  0,  1],\n",
       "        [ 0,  5, 12],\n",
       "        [ 5,  2,  0]]])"
      ]
     },
     "execution_count": 33,
     "metadata": {},
     "output_type": "execute_result"
    }
   ],
   "source": [
    "h[h<0] = 0 ### busca los elementos del array 0, y sustituye esos numeros por 0. Además, actualiza el array\n",
    "h"
   ]
  },
  {
   "cell_type": "markdown",
   "id": "ab38a3be",
   "metadata": {},
   "source": [
    "#### Ejercicio 10 - Genera un array tridimensional de dimensiones (3, 3, 3) con valores enteros del 1 al 27.\n",
    "\n",
    "- Selecciona el subarray del segundo array que contenga solo las dos primeras columnas.\n",
    "\n",
    "- Selecciona todos los elementos del tercer array que sean mayores que `20`.\n"
   ]
  },
  {
   "cell_type": "code",
   "execution_count": 34,
   "id": "78c979cf",
   "metadata": {},
   "outputs": [
    {
     "data": {
      "text/plain": [
       "array([[[26, 15, 20],\n",
       "        [ 8, 13, 16],\n",
       "        [27,  1, 21]],\n",
       "\n",
       "       [[22,  6, 22],\n",
       "        [10, 21, 22],\n",
       "        [ 3, 27, 24]],\n",
       "\n",
       "       [[11,  2, 22],\n",
       "        [19, 19,  1],\n",
       "        [ 5, 12, 17]]])"
      ]
     },
     "execution_count": 34,
     "metadata": {},
     "output_type": "execute_result"
    }
   ],
   "source": [
    "trid= np.random.randint(1,28,(3,3,3))\n",
    "trid"
   ]
  },
  {
   "cell_type": "code",
   "execution_count": 35,
   "id": "d99a246b",
   "metadata": {},
   "outputs": [
    {
     "data": {
      "text/plain": [
       "array([[22,  6],\n",
       "       [10, 21],\n",
       "       [ 3, 27]])"
      ]
     },
     "execution_count": 35,
     "metadata": {},
     "output_type": "execute_result"
    }
   ],
   "source": [
    "trid[1,:,:2]"
   ]
  },
  {
   "cell_type": "code",
   "execution_count": 36,
   "id": "0dfe8975",
   "metadata": {},
   "outputs": [
    {
     "data": {
      "text/plain": [
       "array([22])"
      ]
     },
     "execution_count": 36,
     "metadata": {},
     "output_type": "execute_result"
    }
   ],
   "source": [
    "matriz_3 = trid[2]\n",
    "matriz_3[matriz_3 >20]"
   ]
  },
  {
   "cell_type": "markdown",
   "id": "f1a00156",
   "metadata": {},
   "source": [
    "#### Ejercicio 11 - Crea un array de 10 números aleatorios y reemplaza los valores máximos y mínimos por 0."
   ]
  },
  {
   "cell_type": "code",
   "execution_count": 37,
   "id": "990fa526",
   "metadata": {},
   "outputs": [
    {
     "data": {
      "text/plain": [
       "array([ 6, 17,  8,  2, 17,  5,  9,  2,  7, 24])"
      ]
     },
     "execution_count": 37,
     "metadata": {},
     "output_type": "execute_result"
    }
   ],
   "source": [
    "num_10 = np.random.randint(1,25,10)\n",
    "num_10"
   ]
  },
  {
   "cell_type": "code",
   "execution_count": 38,
   "id": "e1178448",
   "metadata": {},
   "outputs": [
    {
     "name": "stdout",
     "output_type": "stream",
     "text": [
      "El máximo y el mínimo son 24 2\n"
     ]
    }
   ],
   "source": [
    "### busca los indices\n",
    "max_1 = np.max(num_10)\n",
    "min_1 = np.min(num_10)\n",
    "\n",
    "ubicacion_max_1 = np.where(num_10 == max_1)\n",
    "ubicacion_min_1 = np.where(num_10 == min_1)\n",
    "print('El máximo y el mínimo son', max_1, min_1)\n",
    "\n"
   ]
  },
  {
   "cell_type": "code",
   "execution_count": 39,
   "id": "586601cc",
   "metadata": {},
   "outputs": [
    {
     "name": "stdout",
     "output_type": "stream",
     "text": [
      "\n",
      " Este es el array [ 6 17  8  0 17  5  9  0  7  0]\n"
     ]
    }
   ],
   "source": [
    "num_10[ubicacion_max_1] = 0\n",
    "num_10[ubicacion_min_1] = 0\n",
    "print(f'\\n Este es el array {num_10}')"
   ]
  },
  {
   "cell_type": "markdown",
   "id": "781fafd0",
   "metadata": {},
   "source": [
    "#### Ejercicio 12 - Genera un array de 15 números aleatorios enteros entre 1 y 100 y reordénalo en orden ascendente."
   ]
  },
  {
   "cell_type": "code",
   "execution_count": 40,
   "id": "caa4fd47",
   "metadata": {},
   "outputs": [
    {
     "data": {
      "text/plain": [
       "array([ 6, 14, 26, 27, 28, 32, 35, 36, 41, 44, 47, 78, 82, 95, 99])"
      ]
     },
     "execution_count": 40,
     "metadata": {},
     "output_type": "execute_result"
    }
   ],
   "source": [
    "num_15 = np.random.randint(1,101,15)\n",
    "num_15.sort()\n",
    "num_15\n"
   ]
  },
  {
   "cell_type": "markdown",
   "id": "45f10c3e",
   "metadata": {},
   "source": [
    "#### Ejercicio 11 - Calcula la suma de los elementos a lo largo de las filas y columnas en una matriz 4x4."
   ]
  },
  {
   "cell_type": "code",
   "execution_count": 41,
   "id": "90220788",
   "metadata": {},
   "outputs": [
    {
     "name": "stdout",
     "output_type": "stream",
     "text": [
      "[[12 10  3  4]\n",
      " [ 3  9  2 12]\n",
      " [ 2  7 15  3]\n",
      " [ 9  5 13  7]]\n",
      "La suma de las columnas es [26 31 33 26] y la suma de las filas es [29 26 27 34]\n"
     ]
    }
   ],
   "source": [
    "matriz_4x4 = np.random.randint(1,16,(4,4)) \n",
    "print(matriz_4x4)\n",
    "\n",
    "\n",
    "suma_col = np.sum(matriz_4x4, axis = 0)\n",
    "suma_filas = np.sum(matriz_4x4, axis =1)\n",
    "\n",
    "print(f'La suma de las columnas es {suma_col} y la suma de las filas es {suma_filas}')"
   ]
  },
  {
   "cell_type": "markdown",
   "id": "69b9751a",
   "metadata": {},
   "source": [
    "#### Ejercicio 12 - Crea una matriz de 5x5 con valores en el borde igual a 1 y en el interior igual a 0."
   ]
  },
  {
   "cell_type": "code",
   "execution_count": 42,
   "id": "eca81323",
   "metadata": {},
   "outputs": [
    {
     "data": {
      "text/plain": [
       "array([[0., 0., 0., 0., 0.],\n",
       "       [0., 0., 0., 0., 0.],\n",
       "       [0., 0., 0., 0., 0.],\n",
       "       [0., 0., 0., 0., 0.],\n",
       "       [0., 0., 0., 0., 0.]])"
      ]
     },
     "execution_count": 42,
     "metadata": {},
     "output_type": "execute_result"
    }
   ],
   "source": [
    "### pensarlo\n",
    "matriz_5x5 = np.zeros((5,5))\n",
    "matriz_5x5"
   ]
  },
  {
   "cell_type": "code",
   "execution_count": 43,
   "id": "c8f2669b",
   "metadata": {},
   "outputs": [
    {
     "data": {
      "text/plain": [
       "array([[1., 1., 1., 1., 1.],\n",
       "       [1., 0., 0., 0., 1.],\n",
       "       [1., 0., 0., 0., 1.],\n",
       "       [1., 0., 0., 0., 1.],\n",
       "       [1., 1., 1., 1., 1.]])"
      ]
     },
     "execution_count": 43,
     "metadata": {},
     "output_type": "execute_result"
    }
   ],
   "source": [
    "matriz_5x5[0,:] = 1\n",
    "matriz_5x5[4,:] = 1\n",
    "matriz_5x5[:,0] = 1\n",
    "matriz_5x5[:,4] = 1\n",
    "matriz_5x5\n"
   ]
  },
  {
   "cell_type": "markdown",
   "id": "1ea8068d",
   "metadata": {},
   "source": [
    "#### Ejercicio 13 - Calcula la media y la desviación estándar de un array de 10 números aleatorios."
   ]
  },
  {
   "cell_type": "code",
   "execution_count": 44,
   "id": "05dd579d",
   "metadata": {},
   "outputs": [
    {
     "name": "stdout",
     "output_type": "stream",
     "text": [
      "[ 9 20 22 18 14 22 14 20 18  9]\n",
      "La media es 16.6 y la desviación estándar es 4.6303347611160905\n"
     ]
    }
   ],
   "source": [
    "numeros_ale10 = np.random.randint(1,25,10)\n",
    "mean = np.mean(numeros_ale10)\n",
    "std = np.std(numeros_ale10)\n",
    "print(numeros_ale10)\n",
    "print(f'La media es {mean} y la desviación estándar es {std}')"
   ]
  },
  {
   "cell_type": "markdown",
   "id": "6add6669",
   "metadata": {},
   "source": [
    "#### Ejercicio 14 - Genera un array tridimensional de dimensiones (2, 3, 4) con valores enteros del 1 al 24.\n",
    "\n",
    "- Transpón el array para intercambiar los ejes de la forma (2, 3, 4) a (4, 3, 2).\n",
    "\n",
    "- Observa cómo cambian las posiciones de los elementos y sus índices después de la transposición. Explica en una celda de markdown que es lo que ha pasado. \n"
   ]
  },
  {
   "cell_type": "markdown",
   "id": "201c6c0d",
   "metadata": {},
   "source": [
    "*** El primer eje pasa a ser el último, pasamos de 2 a 4 matrices\n",
    "*** El segundo eje queda igual, mantenemos 3 filas\n",
    "*** El tercer eje pasa a ser el primer eje, cambiamos de 4 columnas a 2\n"
   ]
  },
  {
   "cell_type": "code",
   "execution_count": 45,
   "id": "ae98aca5",
   "metadata": {},
   "outputs": [
    {
     "data": {
      "text/plain": [
       "array([[[ 4,  5, 22, 14],\n",
       "        [11,  9, 18, 21],\n",
       "        [13,  1,  6, 14]],\n",
       "\n",
       "       [[ 7, 21, 22, 16],\n",
       "        [20, 16,  7, 20],\n",
       "        [ 2, 15,  5, 23]]])"
      ]
     },
     "execution_count": 45,
     "metadata": {},
     "output_type": "execute_result"
    }
   ],
   "source": [
    "m = np.random.randint(1,25,(2,3,4))\n",
    "\n",
    "m"
   ]
  },
  {
   "cell_type": "code",
   "execution_count": 46,
   "id": "32922500",
   "metadata": {},
   "outputs": [
    {
     "data": {
      "text/plain": [
       "array([[[ 4,  7],\n",
       "        [11, 20],\n",
       "        [13,  2]],\n",
       "\n",
       "       [[ 5, 21],\n",
       "        [ 9, 16],\n",
       "        [ 1, 15]],\n",
       "\n",
       "       [[22, 22],\n",
       "        [18,  7],\n",
       "        [ 6,  5]],\n",
       "\n",
       "       [[14, 16],\n",
       "        [21, 20],\n",
       "        [14, 23]]])"
      ]
     },
     "execution_count": 46,
     "metadata": {},
     "output_type": "execute_result"
    }
   ],
   "source": [
    "n = np.transpose(m,(2,1,0))\n",
    "\n",
    "n"
   ]
  },
  {
   "cell_type": "markdown",
   "id": "1e32b5e6",
   "metadata": {},
   "source": [
    "#### Ejercicio 15 - Genera un array tridimensional de dimensiones (3, 4, 2) con valores enteros del 1 al 24.\n",
    "\n",
    "- Transpón el array para intercambiar el primer y segundo eje, de manera que la nueva forma del array sea (4, 3, 2).\n"
   ]
  },
  {
   "cell_type": "code",
   "execution_count": 47,
   "id": "0146fdd6",
   "metadata": {},
   "outputs": [
    {
     "data": {
      "text/plain": [
       "array([[[ 5, 17],\n",
       "        [ 4,  6],\n",
       "        [ 6,  5],\n",
       "        [24, 11]],\n",
       "\n",
       "       [[ 4,  2],\n",
       "        [14,  3],\n",
       "        [19,  3],\n",
       "        [22, 10]],\n",
       "\n",
       "       [[13, 22],\n",
       "        [ 5, 13],\n",
       "        [ 3, 16],\n",
       "        [19, 23]]])"
      ]
     },
     "execution_count": 47,
     "metadata": {},
     "output_type": "execute_result"
    }
   ],
   "source": [
    "x = np.random.randint(1,25,(3,4,2))\n",
    "x\n"
   ]
  },
  {
   "cell_type": "code",
   "execution_count": 48,
   "id": "2e0c7e72",
   "metadata": {},
   "outputs": [
    {
     "data": {
      "text/plain": [
       "array([[[ 5, 17],\n",
       "        [ 4,  2],\n",
       "        [13, 22]],\n",
       "\n",
       "       [[ 4,  6],\n",
       "        [14,  3],\n",
       "        [ 5, 13]],\n",
       "\n",
       "       [[ 6,  5],\n",
       "        [19,  3],\n",
       "        [ 3, 16]],\n",
       "\n",
       "       [[24, 11],\n",
       "        [22, 10],\n",
       "        [19, 23]]])"
      ]
     },
     "execution_count": 48,
     "metadata": {},
     "output_type": "execute_result"
    }
   ],
   "source": [
    "y = np.transpose(x,(1,0,2))\n",
    "\n",
    "y"
   ]
  },
  {
   "cell_type": "markdown",
   "id": "fcf92586",
   "metadata": {},
   "source": [
    "#### Ejercicio 16 - Genera un array tridimensional de dimensiones (3, 2, 4) con valores enteros del 1 al 24.\n",
    "\n",
    "- Realiza una rotación completa de los ejes para convertir la forma original (3, 2, 4) en (4, 3, 2).\n"
   ]
  },
  {
   "cell_type": "code",
   "execution_count": 49,
   "id": "15eea999",
   "metadata": {},
   "outputs": [
    {
     "data": {
      "text/plain": [
       "array([[[19, 17,  4, 12],\n",
       "        [13, 15, 10,  5]],\n",
       "\n",
       "       [[21, 16,  5, 20],\n",
       "        [20, 22, 10,  9]],\n",
       "\n",
       "       [[19, 15, 22, 15],\n",
       "        [ 7,  5,  5,  5]]])"
      ]
     },
     "execution_count": 49,
     "metadata": {},
     "output_type": "execute_result"
    }
   ],
   "source": [
    "abba = np.random.randint(1,25,(3,2,4))\n",
    "abba"
   ]
  },
  {
   "cell_type": "code",
   "execution_count": 50,
   "id": "81bd2b50",
   "metadata": {},
   "outputs": [
    {
     "data": {
      "text/plain": [
       "array([[[19, 13],\n",
       "        [21, 20],\n",
       "        [19,  7]],\n",
       "\n",
       "       [[17, 15],\n",
       "        [16, 22],\n",
       "        [15,  5]],\n",
       "\n",
       "       [[ 4, 10],\n",
       "        [ 5, 10],\n",
       "        [22,  5]],\n",
       "\n",
       "       [[12,  5],\n",
       "        [20,  9],\n",
       "        [15,  5]]])"
      ]
     },
     "execution_count": 50,
     "metadata": {},
     "output_type": "execute_result"
    }
   ],
   "source": [
    "bbaa = np.transpose(abba,(2,0,1))\n",
    "bbaa"
   ]
  },
  {
   "cell_type": "markdown",
   "id": "1795e11f",
   "metadata": {},
   "source": [
    "#### Ejercicio 17 - Manipulación de Arrays en 3D\n",
    "\n",
    "- Crea un array tridimensional con dimensiones (3, 4, 5) cuyos elementos sean números enteros aleatorios entre -10 y 10.\n",
    "\n",
    "- Crea un array vacío con la misma forma y dimensiones que el array creado anteriormente. Luego, reemplaza los valores de la matriz vacía basada en los valores del primer array bajo las siguientes condiciones:\n",
    "\n",
    "   - Si el valor es igual a la mediana, se reemplaza por `\"M\"`.\n",
    "\n",
    "   - Si el valor es mayor que la mediana, se reemplaza por `\"X\"`.\n",
    "\n",
    "   - Si el valor es menor que la mediana, se reemplaza por `\"Y\"`.\n",
    "\n",
    "   - Si el valor es igual al máximo, se reemplaza por `\"MAX\"`.\n",
    "\n",
    "   - Si el valor es igual al mínimo, se reemplaza por `\"MIN\"`.\n"
   ]
  },
  {
   "cell_type": "code",
   "execution_count": 51,
   "id": "d309b397",
   "metadata": {},
   "outputs": [
    {
     "data": {
      "text/plain": [
       "array([[[ -4,   0,   6,  -8,   5],\n",
       "        [ -4,   4,   0,  10,   0],\n",
       "        [ -1, -10,  -3,   7,  -8],\n",
       "        [ -9, -10,   5,   8,  -1]],\n",
       "\n",
       "       [[  6,  -5,  -2,  -1,   5],\n",
       "        [  0,   5,  -4,   0,   8],\n",
       "        [  5,  -8,   6,  -9,   8],\n",
       "        [  8,  -8,  -3,   0,  -7]],\n",
       "\n",
       "       [[  6,   9,  -5,  10, -10],\n",
       "        [ -9,  -2,   6,   6,  -9],\n",
       "        [  6,   9,   9,   2,  -3],\n",
       "        [ -4,   9,  -1,   0,   8]]])"
      ]
     },
     "execution_count": 51,
     "metadata": {},
     "output_type": "execute_result"
    }
   ],
   "source": [
    "manipulable_1 = np.random.randint(-10,11,(3,4,5))\n",
    "manipulable_1"
   ]
  },
  {
   "cell_type": "code",
   "execution_count": 52,
   "id": "e4747ae6",
   "metadata": {},
   "outputs": [
    {
     "data": {
      "text/plain": [
       "array([[['', '', '', '', ''],\n",
       "        ['', '', '', '', ''],\n",
       "        ['', '', '', '', ''],\n",
       "        ['', '', '', '', '']],\n",
       "\n",
       "       [['', '', '', '', ''],\n",
       "        ['', '', '', '', ''],\n",
       "        ['', '', '', '', ''],\n",
       "        ['', '', '', '', '']],\n",
       "\n",
       "       [['', '', '', '', ''],\n",
       "        ['', '', '', '', ''],\n",
       "        ['', '', '', '', ''],\n",
       "        ['', '', '', '', '']]], dtype='<U100')"
      ]
     },
     "execution_count": 52,
     "metadata": {},
     "output_type": "execute_result"
    }
   ],
   "source": [
    "manipulable_vacio = np.empty((3,4,5), dtype='U100') \n",
    "manipulable_vacio"
   ]
  },
  {
   "cell_type": "code",
   "execution_count": 53,
   "id": "1a542d88",
   "metadata": {},
   "outputs": [
    {
     "name": "stdout",
     "output_type": "stream",
     "text": [
      "El valor máximo es 10, el valor mínimo es -10 y la mediana es 0.0\n"
     ]
    }
   ],
   "source": [
    "m_max = np.max(manipulable_1)\n",
    "m_min = np.min(manipulable_1)\n",
    "m_median = np.median(manipulable_1)\n",
    "\n",
    "print(f'El valor máximo es {m_max}, el valor mínimo es {m_min} y la mediana es {m_median}')"
   ]
  },
  {
   "cell_type": "code",
   "execution_count": 54,
   "id": "aafbefe7",
   "metadata": {},
   "outputs": [
    {
     "data": {
      "text/plain": [
       "array([0, 0, 0, 0, 0, 0, 0])"
      ]
     },
     "execution_count": 54,
     "metadata": {},
     "output_type": "execute_result"
    }
   ],
   "source": [
    "manipulable_1[manipulable_1 == m_median]"
   ]
  },
  {
   "cell_type": "code",
   "execution_count": 55,
   "id": "24fe91bc",
   "metadata": {},
   "outputs": [
    {
     "data": {
      "text/plain": [
       "array([ 6,  5,  4, 10,  7,  5,  8,  6,  5,  5,  8,  5,  6,  8,  8,  6,  9,\n",
       "       10,  6,  6,  6,  9,  9,  2,  9,  8])"
      ]
     },
     "execution_count": 55,
     "metadata": {},
     "output_type": "execute_result"
    }
   ],
   "source": [
    "manipulable_1[manipulable_1 > m_median]"
   ]
  },
  {
   "cell_type": "code",
   "execution_count": 56,
   "id": "9e8c163a",
   "metadata": {},
   "outputs": [
    {
     "data": {
      "text/plain": [
       "array([ -4,  -8,  -4,  -1, -10,  -3,  -8,  -9, -10,  -1,  -5,  -2,  -1,\n",
       "        -4,  -8,  -9,  -8,  -3,  -7,  -5, -10,  -9,  -2,  -9,  -3,  -4,\n",
       "        -1])"
      ]
     },
     "execution_count": 56,
     "metadata": {},
     "output_type": "execute_result"
    }
   ],
   "source": [
    "manipulable_1[manipulable_1 < m_median]"
   ]
  },
  {
   "cell_type": "code",
   "execution_count": 57,
   "id": "bbd9aeba",
   "metadata": {},
   "outputs": [
    {
     "data": {
      "text/plain": [
       "(array([0, 0, 0, 0, 0, 0, 0, 0, 0, 0, 1, 1, 1, 1, 1, 1, 1, 1, 1, 2, 2, 2,\n",
       "        2, 2, 2, 2, 2], dtype=int64),\n",
       " array([0, 0, 1, 2, 2, 2, 2, 3, 3, 3, 0, 0, 0, 1, 2, 2, 3, 3, 3, 0, 0, 1,\n",
       "        1, 1, 2, 3, 3], dtype=int64),\n",
       " array([0, 3, 0, 0, 1, 2, 4, 0, 1, 4, 1, 2, 3, 2, 1, 3, 1, 2, 4, 2, 4, 0,\n",
       "        1, 4, 4, 0, 2], dtype=int64))"
      ]
     },
     "execution_count": 57,
     "metadata": {},
     "output_type": "execute_result"
    }
   ],
   "source": [
    "ubicacion_menores_mediana = np.where(manipulable_1 < m_median)\n",
    "ubicacion_menores_mediana"
   ]
  },
  {
   "cell_type": "code",
   "execution_count": 58,
   "id": "5307e65f",
   "metadata": {},
   "outputs": [
    {
     "data": {
      "text/plain": [
       "array([[['Y', '', '', 'Y', ''],\n",
       "        ['Y', '', '', '', ''],\n",
       "        ['Y', 'Y', 'Y', '', 'Y'],\n",
       "        ['Y', 'Y', '', '', 'Y']],\n",
       "\n",
       "       [['', 'Y', 'Y', 'Y', ''],\n",
       "        ['', '', 'Y', '', ''],\n",
       "        ['', 'Y', '', 'Y', ''],\n",
       "        ['', 'Y', 'Y', '', 'Y']],\n",
       "\n",
       "       [['', '', 'Y', '', 'Y'],\n",
       "        ['Y', 'Y', '', '', 'Y'],\n",
       "        ['', '', '', '', 'Y'],\n",
       "        ['Y', '', 'Y', '', '']]], dtype='<U100')"
      ]
     },
     "execution_count": 58,
     "metadata": {},
     "output_type": "execute_result"
    }
   ],
   "source": [
    "manipulable_vacio[ubicacion_menores_mediana] = 'Y'\n",
    "\n",
    "manipulable_vacio"
   ]
  },
  {
   "cell_type": "code",
   "execution_count": 59,
   "id": "afa5460a",
   "metadata": {},
   "outputs": [
    {
     "data": {
      "text/plain": [
       "(array([0, 0, 0, 0, 0, 0, 0, 1, 1, 1, 1, 1, 1, 1, 1, 2, 2, 2, 2, 2, 2, 2,\n",
       "        2, 2, 2, 2], dtype=int64),\n",
       " array([0, 0, 1, 1, 2, 3, 3, 0, 0, 1, 1, 2, 2, 2, 3, 0, 0, 0, 1, 1, 2, 2,\n",
       "        2, 2, 3, 3], dtype=int64),\n",
       " array([2, 4, 1, 3, 3, 2, 3, 0, 4, 1, 4, 0, 2, 4, 0, 0, 1, 3, 2, 3, 0, 1,\n",
       "        2, 3, 1, 4], dtype=int64))"
      ]
     },
     "execution_count": 59,
     "metadata": {},
     "output_type": "execute_result"
    }
   ],
   "source": [
    "ubicacion_mayores_mediana = np.where(manipulable_1 > m_median)\n",
    "ubicacion_mayores_mediana"
   ]
  },
  {
   "cell_type": "code",
   "execution_count": 60,
   "id": "bf422fc5",
   "metadata": {},
   "outputs": [
    {
     "data": {
      "text/plain": [
       "array([[['Y', '', 'X', 'Y', 'X'],\n",
       "        ['Y', 'X', '', 'X', ''],\n",
       "        ['Y', 'Y', 'Y', 'X', 'Y'],\n",
       "        ['Y', 'Y', 'X', 'X', 'Y']],\n",
       "\n",
       "       [['X', 'Y', 'Y', 'Y', 'X'],\n",
       "        ['', 'X', 'Y', '', 'X'],\n",
       "        ['X', 'Y', 'X', 'Y', 'X'],\n",
       "        ['X', 'Y', 'Y', '', 'Y']],\n",
       "\n",
       "       [['X', 'X', 'Y', 'X', 'Y'],\n",
       "        ['Y', 'Y', 'X', 'X', 'Y'],\n",
       "        ['X', 'X', 'X', 'X', 'Y'],\n",
       "        ['Y', 'X', 'Y', '', 'X']]], dtype='<U100')"
      ]
     },
     "execution_count": 60,
     "metadata": {},
     "output_type": "execute_result"
    }
   ],
   "source": [
    "manipulable_vacio[ubicacion_mayores_mediana] = 'X'\n",
    "\n",
    "manipulable_vacio"
   ]
  },
  {
   "cell_type": "code",
   "execution_count": 61,
   "id": "1436a278",
   "metadata": {},
   "outputs": [
    {
     "data": {
      "text/plain": [
       "(array([0, 0, 0, 1, 1, 1, 2], dtype=int64),\n",
       " array([0, 1, 1, 1, 1, 3, 3], dtype=int64),\n",
       " array([1, 2, 4, 0, 3, 3, 3], dtype=int64))"
      ]
     },
     "execution_count": 61,
     "metadata": {},
     "output_type": "execute_result"
    }
   ],
   "source": [
    "ubicacion_mediana = np.where(manipulable_1 == m_median)\n",
    "ubicacion_mediana"
   ]
  },
  {
   "cell_type": "code",
   "execution_count": 62,
   "id": "ea576728",
   "metadata": {},
   "outputs": [
    {
     "data": {
      "text/plain": [
       "array([[['Y', 'M', 'X', 'Y', 'X'],\n",
       "        ['Y', 'X', 'M', 'X', 'M'],\n",
       "        ['Y', 'Y', 'Y', 'X', 'Y'],\n",
       "        ['Y', 'Y', 'X', 'X', 'Y']],\n",
       "\n",
       "       [['X', 'Y', 'Y', 'Y', 'X'],\n",
       "        ['M', 'X', 'Y', 'M', 'X'],\n",
       "        ['X', 'Y', 'X', 'Y', 'X'],\n",
       "        ['X', 'Y', 'Y', 'M', 'Y']],\n",
       "\n",
       "       [['X', 'X', 'Y', 'X', 'Y'],\n",
       "        ['Y', 'Y', 'X', 'X', 'Y'],\n",
       "        ['X', 'X', 'X', 'X', 'Y'],\n",
       "        ['Y', 'X', 'Y', 'M', 'X']]], dtype='<U100')"
      ]
     },
     "execution_count": 62,
     "metadata": {},
     "output_type": "execute_result"
    }
   ],
   "source": [
    "manipulable_vacio[ubicacion_mediana] = 'M'\n",
    "manipulable_vacio"
   ]
  },
  {
   "cell_type": "code",
   "execution_count": 63,
   "id": "cc8d9112",
   "metadata": {},
   "outputs": [
    {
     "data": {
      "text/plain": [
       "(array([0, 2], dtype=int64),\n",
       " array([1, 0], dtype=int64),\n",
       " array([3, 3], dtype=int64))"
      ]
     },
     "execution_count": 63,
     "metadata": {},
     "output_type": "execute_result"
    }
   ],
   "source": [
    "ubicacion_max = np.where(manipulable_1 == m_max)\n",
    "ubicacion_max\n"
   ]
  },
  {
   "cell_type": "code",
   "execution_count": 64,
   "id": "aa6b8344",
   "metadata": {},
   "outputs": [
    {
     "data": {
      "text/plain": [
       "array([[['Y', 'M', 'X', 'Y', 'X'],\n",
       "        ['Y', 'X', 'M', 'max', 'M'],\n",
       "        ['Y', 'Y', 'Y', 'X', 'Y'],\n",
       "        ['Y', 'Y', 'X', 'X', 'Y']],\n",
       "\n",
       "       [['X', 'Y', 'Y', 'Y', 'X'],\n",
       "        ['M', 'X', 'Y', 'M', 'X'],\n",
       "        ['X', 'Y', 'X', 'Y', 'X'],\n",
       "        ['X', 'Y', 'Y', 'M', 'Y']],\n",
       "\n",
       "       [['X', 'X', 'Y', 'max', 'Y'],\n",
       "        ['Y', 'Y', 'X', 'X', 'Y'],\n",
       "        ['X', 'X', 'X', 'X', 'Y'],\n",
       "        ['Y', 'X', 'Y', 'M', 'X']]], dtype='<U100')"
      ]
     },
     "execution_count": 64,
     "metadata": {},
     "output_type": "execute_result"
    }
   ],
   "source": [
    "manipulable_vacio[ubicacion_max] = 'max'\n",
    "\n",
    "manipulable_vacio"
   ]
  },
  {
   "cell_type": "code",
   "execution_count": 65,
   "id": "9780b389",
   "metadata": {},
   "outputs": [
    {
     "data": {
      "text/plain": [
       "(array([0, 0, 2], dtype=int64),\n",
       " array([2, 3, 0], dtype=int64),\n",
       " array([1, 1, 4], dtype=int64))"
      ]
     },
     "execution_count": 65,
     "metadata": {},
     "output_type": "execute_result"
    }
   ],
   "source": [
    "ubicacion_min = np.where(manipulable_1 == m_min)\n",
    "ubicacion_min"
   ]
  },
  {
   "cell_type": "code",
   "execution_count": 66,
   "id": "f4fb33b5",
   "metadata": {},
   "outputs": [
    {
     "data": {
      "text/plain": [
       "array([[['Y', 'M', 'X', 'Y', 'X'],\n",
       "        ['Y', 'X', 'M', 'max', 'M'],\n",
       "        ['Y', 'min', 'Y', 'X', 'Y'],\n",
       "        ['Y', 'min', 'X', 'X', 'Y']],\n",
       "\n",
       "       [['X', 'Y', 'Y', 'Y', 'X'],\n",
       "        ['M', 'X', 'Y', 'M', 'X'],\n",
       "        ['X', 'Y', 'X', 'Y', 'X'],\n",
       "        ['X', 'Y', 'Y', 'M', 'Y']],\n",
       "\n",
       "       [['X', 'X', 'Y', 'max', 'min'],\n",
       "        ['Y', 'Y', 'X', 'X', 'Y'],\n",
       "        ['X', 'X', 'X', 'X', 'Y'],\n",
       "        ['Y', 'X', 'Y', 'M', 'X']]], dtype='<U100')"
      ]
     },
     "execution_count": 66,
     "metadata": {},
     "output_type": "execute_result"
    }
   ],
   "source": [
    "manipulable_vacio[ubicacion_min] = 'min'\n",
    "\n",
    "manipulable_vacio"
   ]
  },
  {
   "cell_type": "code",
   "execution_count": 67,
   "id": "82f5ed18",
   "metadata": {},
   "outputs": [
    {
     "name": "stdout",
     "output_type": "stream",
     "text": [
      "[[[ -9  -4  -7   1   0]\n",
      "  [  4   6   4  -5   8]\n",
      "  [ -2 -10  -1 -10  -3]\n",
      "  [  6   6  -9  -9  -5]]\n",
      "\n",
      " [[-10   4   7   2   0]\n",
      "  [ -8  -8   5  -5  -6]\n",
      "  [ -8   0   9   3   7]\n",
      "  [  2  -9  -2   9  -3]]\n",
      "\n",
      " [[  3   1   0   9   5]\n",
      "  [-10 -10   0   9   9]\n",
      "  [  3  -9  -5   2  -8]\n",
      "  [  7   9  -1  -8  -1]]]\n",
      "\n",
      "\n",
      "La mediana es 0.0 \n",
      "\n",
      "[[['Y' 'Y' 'Y' 'X' 'M']\n",
      "  ['X' 'X' 'X' 'Y' 'X']\n",
      "  ['Y' 'Y' 'Y' 'Y' 'Y']\n",
      "  ['X' 'X' 'Y' 'Y' 'Y']]\n",
      "\n",
      " [['Y' 'X' 'X' 'X' 'M']\n",
      "  ['Y' 'Y' 'X' 'Y' 'Y']\n",
      "  ['Y' 'M' 'X' 'X' 'X']\n",
      "  ['X' 'Y' 'Y' 'X' 'Y']]\n",
      "\n",
      " [['X' 'X' 'M' 'X' 'X']\n",
      "  ['Y' 'Y' 'M' 'X' 'X']\n",
      "  ['X' 'Y' 'Y' 'X' 'Y']\n",
      "  ['X' 'X' 'Y' 'Y' 'Y']]]\n"
     ]
    }
   ],
   "source": [
    "array = np.random.randint(-10,10, (3,4,5))\n",
    "print(array)\n",
    "\n",
    "array_vacio = np.empty((3,4,5), dtype = str)\n",
    "\n",
    "print(\"\\n\")\n",
    "\n",
    "median = np.median(array)\n",
    "max = np.max(array)\n",
    "min = np.min(array)\n",
    "\n",
    "print(f\"La mediana es {median} \\n\")\n",
    "\n",
    "array_vacio[array == median] = \"M\"\n",
    "array_vacio[array == max] = \"MAX\"\n",
    "array_vacio[array == min] = \"MIN\"\n",
    "array_vacio[array > median] = \"X\"\n",
    "array_vacio[array < median] = \"Y\"\n",
    "\n",
    "print(array_vacio)"
   ]
  },
  {
   "cell_type": "markdown",
   "id": "83794704",
   "metadata": {},
   "source": [
    "#### Ejercicio 18 - Verificación de Filas y Columnas Iguales\n",
    "\n",
    "Crea un array bidimensional de dimensiones 4x4, escribe un código para determinar si alguna fila es exactamente igual a alguna columna.\n",
    "\n",
    "**Reglas:**\n",
    "\n",
    "- No puedes usar funciones predefinidas de NumPy para comparar filas y columnas (`np.array_equal`, etc.).\n",
    "\n",
    "- Debes resolverlo con estructuras básicas de Python (bucles, condicionales, etc.).\n",
    "\n",
    "- Debes revisar si hay al menos una fila que coincida exactamente con alguna columna.\n",
    "\n",
    "**Pistas**:\n",
    "\n",
    "- Puedes recorrer cada fila y cada columna de la matriz usando bucles.\n",
    "\n",
    "- Para comparar una fila con una columna, puedes hacerlo elemento por elemento."
   ]
  },
  {
   "cell_type": "code",
   "execution_count": 68,
   "id": "afd51c60",
   "metadata": {},
   "outputs": [
    {
     "data": {
      "text/plain": [
       "array([[ 0, -4, -9, -9],\n",
       "       [ 8,  9, -6,  0],\n",
       "       [ 5, -7, -2, -6],\n",
       "       [-1,  8,  4,  9]])"
      ]
     },
     "execution_count": 68,
     "metadata": {},
     "output_type": "execute_result"
    }
   ],
   "source": [
    "array_final = np.random.randint(-10,10, (4,4))\n",
    "array_final"
   ]
  },
  {
   "cell_type": "code",
   "execution_count": 69,
   "id": "602eb67d",
   "metadata": {},
   "outputs": [
    {
     "data": {
      "text/plain": [
       "array([ 0, -4, -9, -9])"
      ]
     },
     "execution_count": 69,
     "metadata": {},
     "output_type": "execute_result"
    }
   ],
   "source": [
    "array_final[0]"
   ]
  },
  {
   "cell_type": "code",
   "execution_count": 70,
   "id": "abb0d3e1",
   "metadata": {},
   "outputs": [
    {
     "name": "stdout",
     "output_type": "stream",
     "text": [
      "No hay ninguna fila que coincida exactamente con alguna columna.\n"
     ]
    }
   ],
   "source": [
    "encontrado = False\n",
    "\n",
    "for i in range(4):\n",
    "    fila = list(array_final[i])\n",
    "    \n",
    "    # Recorremos las columnas\n",
    "    for j in range(4):\n",
    "        # Creamos una lista con los elementos de la columna j\n",
    "        columna = [array_final[x][j] for x in range(4)]\n",
    "        \n",
    "        if fila == columna:\n",
    "            print(f\"La fila {i} es igual a la columna {j}\")\n",
    "            encontrado = True\n",
    "            break\n",
    "if not encontrado:\n",
    "    print(\"No hay ninguna fila que coincida exactamente con alguna columna.\")\n"
   ]
  },
  {
   "cell_type": "code",
   "execution_count": null,
   "id": "e95cf458",
   "metadata": {},
   "outputs": [],
   "source": []
  }
 ],
 "metadata": {
  "kernelspec": {
   "display_name": "Python 3",
   "language": "python",
   "name": "python3"
  },
  "language_info": {
   "codemirror_mode": {
    "name": "ipython",
    "version": 3
   },
   "file_extension": ".py",
   "mimetype": "text/x-python",
   "name": "python",
   "nbconvert_exporter": "python",
   "pygments_lexer": "ipython3",
   "version": "3.11.9"
  }
 },
 "nbformat": 4,
 "nbformat_minor": 5
}
